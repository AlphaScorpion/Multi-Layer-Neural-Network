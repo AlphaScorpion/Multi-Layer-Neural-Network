{
 "cells": [
  {
   "cell_type": "markdown",
   "id": "fafb78be",
   "metadata": {},
   "source": [
    "<b> Name: Aishwarya Bhavsar </b><br>\n",
    "<b> CSULB ID: 029371509 </b><br>\n",
    "<b>CECS 551 - Assignment 3 </b>"
   ]
  },
  {
   "cell_type": "markdown",
   "id": "14e14fd1",
   "metadata": {},
   "source": [
    " <b> Implement multi-layer neural network WITHOUT using external deep learning li\u0002braries such as Keras, Caffe, Theano, TensorFlow, PyTorch </b>"
   ]
  },
  {
   "cell_type": "markdown",
   "id": "08d8fe14",
   "metadata": {},
   "source": [
    "<b>PART (a) </b><br>\n",
    "\n",
    "(a) Consider a neural network as shown in Figure 1 that approximates XOR function. <br>\n",
    "• The width of the layer 1 is 2, and the width of the layer 2 is 1.<br>\n",
    "• The activation functions of the layer 1 are the hyperbolic tangent.<br>\n",
    "• The activation function of the layer 2 is the sigmoid.<br>\n",
    "• The loss function is the binary cross entropy <br>"
   ]
  },
  {
   "cell_type": "markdown",
   "id": "0bc097f7",
   "metadata": {},
   "source": [
    "<b>Import Numpy Library <b>"
   ]
  },
  {
   "cell_type": "code",
   "execution_count": 502,
   "id": "477051a7",
   "metadata": {},
   "outputs": [],
   "source": [
    "# import Python Libraries\n",
    "import numpy as np\n",
    "from matplotlib import pyplot as plt"
   ]
  },
  {
   "cell_type": "markdown",
   "id": "b6d3e44c",
   "metadata": {},
   "source": [
    "<b> Hyperbolic Tangent Function - For Hidden Layer 1 </b>"
   ]
  },
  {
   "cell_type": "code",
   "execution_count": 503,
   "id": "6b9eddf2",
   "metadata": {},
   "outputs": [],
   "source": [
    "#Implementation of activation function of the layer 1\n",
    "#hyperbolic tangent function\n",
    "def tanh(x):\n",
    "    return (1.0 - np.exp(-2*x))/(1.0 + np.exp(-2*x))\n",
    "\n",
    "def tanh_derivative(x):\n",
    "    return (1 + x)*(1 - x)"
   ]
  },
  {
   "cell_type": "markdown",
   "id": "5f1bfa55",
   "metadata": {},
   "source": [
    "<b> Sigmoid Function - For Hidden Layer 2 </b>"
   ]
  },
  {
   "cell_type": "code",
   "execution_count": 504,
   "id": "52a42b12",
   "metadata": {},
   "outputs": [],
   "source": [
    "#Implementation of activation function of the layer 2\n",
    "# Sigmoid Function\n",
    "def sigmoid(z):\n",
    "    return 1 / (1 + np.exp(-z))\n",
    "def sigmoid_derivative(z):\n",
    "    return y * (1 - z)"
   ]
  },
  {
   "cell_type": "markdown",
   "id": "6d1086cc",
   "metadata": {},
   "source": [
    "<B>THE GRADIENT DESCENT METHOD TO OPTIMISE THE PARAMETERS</B>"
   ]
  },
  {
   "cell_type": "code",
   "execution_count": 505,
   "id": "533dae30",
   "metadata": {},
   "outputs": [],
   "source": [
    "#Implementation of gradient descent method\n",
    "def gradient_descent(\n",
    "    gradient, start, learn_rate, n_iter=50, tolerance=1e-06\n",
    "):\n",
    "    vector = start\n",
    "    for _ in range(n_iter):\n",
    "        diff = -learn_rate * gradient(vector)\n",
    "        if np.all(np.abs(diff) <= tolerance):\n",
    "            break\n",
    "        vector += diff\n",
    "    return vector\n"
   ]
  },
  {
   "cell_type": "code",
   "execution_count": 506,
   "id": "e1ebccee",
   "metadata": {},
   "outputs": [],
   "source": [
    "# Initialization of the neural network parameters\n",
    "# Initialized all the weights in the range of between 0 and 1\n",
    "# Bias values are initialized to 0\n",
    "\n",
    "def initializeParameters(modelinput, total_neurons, modeloutput):\n",
    "    W = np.random.randn(total_neurons, modelinput)\n",
    "    w = np.random.randn(modeloutput, total_neurons)\n",
    "    b1 = np.zeros((total_neurons, 1))\n",
    "    b2 = np.zeros((modeloutput, 1))\n",
    "    \n",
    "    parameters = {\"W\" : W, \"b1\": b1,\n",
    "                    \"w\" : w, \"b2\": b2}\n",
    "    return parameters"
   ]
  },
  {
   "cell_type": "markdown",
   "id": "4c6b92f7",
   "metadata": {},
   "source": [
    "<b>Part (c)</b> <br>\n",
    "Implement the model without using any deep learning libraries. However, you can use import numpy in case you need.<br>\n",
    "X = np.array([[0,0],[0,1],[1,0],[1,1]]) <br>\n",
    "y = np.array([0,1,1,0])<br>\n",
    "You need to optimize the parameters using simple gradient descent method. <br>\n",
    "Predict ˆy using the trained network and show the result. \n"
   ]
  },
  {
   "cell_type": "markdown",
   "id": "8167cd0d",
   "metadata": {},
   "source": [
    "<b> Forward Propagation </b>- The input data is fed in the forward direction through the network.<br> Each hidden layer accepts the input data, processes it as per the activation function and passes to the successive layer."
   ]
  },
  {
   "cell_type": "code",
   "execution_count": 507,
   "id": "23fb8cbd",
   "metadata": {},
   "outputs": [],
   "source": [
    "# Forward Propagation\n",
    "def forwardPropagation(X, Y, parameters):\n",
    "    m = X.shape[1]\n",
    "    W = parameters[\"W\"]\n",
    "    w = parameters[\"w\"]\n",
    "    b1 = parameters[\"b1\"]\n",
    "    b2 = parameters[\"b2\"]\n",
    "\n",
    "    Z1 = np.dot(W, X) + b1\n",
    "    A1 = tanh(Z1)\n",
    "    Z2 = np.dot(w, A1) + b2\n",
    "    A2 = sigmoid(Z2)\n",
    "\n",
    "    store = (Z1, A1, W, b1, Z2, A2, w, b2)\n",
    "    loss_log = np.multiply(np.log(A2), Y) + np.multiply(np.log(1 - A2), (1 - Y))\n",
    "    cost_function = -np.sum(loss_log) / m    \n",
    "    return cost_function, store, A2\n"
   ]
  },
  {
   "cell_type": "markdown",
   "id": "ad2c27d5",
   "metadata": {},
   "source": [
    "<b> Backward Propagation </b> - Fine-tuning the weights of a neural net based on the error rate (i.e., loss) obtained in the previous epoch (i.e., iteration). <br> Proper tuning of the weights ensures lower error rates, making the model reliable by increasing its generalization. \n",
    "\n",
    "<b>Mini-Batches</b>\n",
    "The network is designed to process examples in mini-batches.<br>\n",
    "The gradients are calculated for more than one example at a time. <br>\n",
    "The sum is squashing the results down to a single update."
   ]
  },
  {
   "cell_type": "code",
   "execution_count": 508,
   "id": "7e2bd11f",
   "metadata": {},
   "outputs": [],
   "source": [
    "# Backward Propagation\n",
    "def backwardPropagation(X, Y, store):\n",
    "    m = X.shape[1]\n",
    "    (Z1, A1, W, b1, Z2, A2, w, b2) = store\n",
    "\n",
    "    dZ2 = A2 - Y\n",
    "    dw = np.dot(dZ2, A1.T) / m\n",
    "    #matrix multiplication of the local and the upstream derivatives\n",
    "    db2 = np.sum(dZ2, axis = 1, keepdims = True)  #dimensions of the array matrix gets saved.\n",
    "\n",
    "    dA1 = np.dot(w.T, dZ2)\n",
    "    dZ1 = np.multiply(dA1, A1 * (1- A1))\n",
    "    dW = np.dot(dZ1, X.T) / m\n",
    "    db1 = np.sum(dZ1, axis = 1, keepdims = True) / m\n",
    "        \n",
    "    gradients = {\"dZ2\": dZ2, \"dw\": dw, \"db2\": db2,\n",
    "                \"dZ1\": dZ1, \"dW\": dW, \"db1\": db1}\n",
    "    return gradients"
   ]
  },
  {
   "cell_type": "markdown",
   "id": "d104e139",
   "metadata": {},
   "source": [
    "<b>Updation Of Weights </b>: Weights associated with neuron connections must be updated after forward passes of data through the network. <br> These weights are adjusted to help reconcile the differences between the actual and predicted outcomes for subsequent forward passes."
   ]
  },
  {
   "cell_type": "code",
   "execution_count": 509,
   "id": "d9dde88b",
   "metadata": {},
   "outputs": [],
   "source": [
    "# Updating the weights based on the negative gradients\n",
    "def updateParameters(parameters, gradients, learningRate):\n",
    "    parameters[\"W\"] = parameters[\"W\"] - learningRate * gradients[\"dW\"]\n",
    "    parameters[\"w\"] = parameters[\"w\"] - learningRate * gradients[\"dw\"]\n",
    "    parameters[\"b1\"] = parameters[\"b1\"] - learningRate * gradients[\"db1\"]\n",
    "    parameters[\"b2\"] = parameters[\"b2\"] - learningRate * gradients[\"db2\"]\n",
    "    return parameters\n"
   ]
  },
  {
   "cell_type": "markdown",
   "id": "5bcf75b2",
   "metadata": {},
   "source": [
    "<b> XOR Inputs </b>"
   ]
  },
  {
   "cell_type": "code",
   "execution_count": 510,
   "id": "9d1f5c14",
   "metadata": {},
   "outputs": [],
   "source": [
    "# Model to learn the XOR truth table\n",
    "X = np.array([[0, 0, 1, 1], [0, 1, 0, 1]]) # XOR input\n",
    "Y = np.array([[0, 1, 1, 0]])               # XOR output\n"
   ]
  },
  {
   "cell_type": "markdown",
   "id": "d745c2a3",
   "metadata": {},
   "source": [
    "$$Learning Rate (\\eta) $$\n",
    "\n",
    "As mentioned in the question, if there is only time to optimize one hyper-parameter and one uses stochastic gradient descent, then this is the hyper-parameter (learning rate) that is worth tuning.<br>\n",
    "A default good learning rate is 0.1 or 0.01 based on trial and error method.\n"
   ]
  },
  {
   "cell_type": "code",
   "execution_count": 511,
   "id": "3ddd2a48",
   "metadata": {},
   "outputs": [],
   "source": [
    "# Define model parameters\n",
    "total_neurons = 3 # number of hidden layer neurons (2)\n",
    "modelinput = X.shape[0] # number of input features (2)\n",
    "modeloutput = Y.shape[0] # number of output features (1)\n",
    "parameters = initializeParameters(modelinput, total_neurons, modeloutput)\n",
    "epoch = 100000\n",
    "learningRate = 0.01\n",
    "losses = np.zeros((epoch, 1))\n",
    "\n",
    "for i in range(epoch):\n",
    "    losses[i, 0], store, A2 = forwardPropagation(X, Y, parameters)\n",
    "    gradients = backwardPropagation(X, Y, store)\n",
    "    parameters = updateParameters(parameters, gradients, learningRate)"
   ]
  },
  {
   "cell_type": "markdown",
   "id": "cb258670",
   "metadata": {},
   "source": [
    "<b>Performance Evaluation</b>"
   ]
  },
  {
   "cell_type": "code",
   "execution_count": 512,
   "id": "4bf6bcb9",
   "metadata": {},
   "outputs": [
    {
     "data": {
      "image/png": "[encoded data removed]",
      "text/plain": [
       "<Figure size 432x288 with 1 Axes>"
      ]
     },
     "metadata": {
      "needs_background": "light"
     },
     "output_type": "display_data"
    }
   ],
   "source": [
    "# Evaluating the performance\n",
    "plt.figure()\n",
    "plt.plot(losses)\n",
    "plt.xlabel(\"EPOCHS\")\n",
    "plt.ylabel(\"LOSS VALUE\")\n",
    "plt.show()"
   ]
  },
  {
   "cell_type": "markdown",
   "id": "3ca824ad",
   "metadata": {},
   "source": [
    "<b>Test - Predict y(hat) using the trained network</b>"
   ]
  },
  {
   "cell_type": "code",
   "execution_count": 513,
   "id": "7c2aa604",
   "metadata": {},
   "outputs": [],
   "source": [
    "# Testing\n",
    "X = np.array([[1, 1, 0, 0], [0, 1, 0, 1]]) # XOR input\n",
    "cost,_, A2 = forwardPropagation(X, Y, parameters)\n",
    "prediction = (A2 > 0.5) * 1.0"
   ]
  },
  {
   "cell_type": "markdown",
   "id": "eeae3c56",
   "metadata": {},
   "source": [
    "<b> Output Results</b>"
   ]
  },
  {
   "cell_type": "code",
   "execution_count": 514,
   "id": "d1b90656",
   "metadata": {},
   "outputs": [
    {
     "name": "stdout",
     "output_type": "stream",
     "text": [
      "[[1. 0. 0. 1.]]\n"
     ]
    }
   ],
   "source": [
    "# print(A2)\n",
    "print(prediction)\n"
   ]
  },
  {
   "cell_type": "markdown",
   "id": "55a52a0a",
   "metadata": {},
   "source": [
    "<b>PART (b) </b><br>\n",
    "Calculate derivates. Please include the answers in the Jupyter notebook.<br>\n",
    "Notice that you can use LATEX equation in the Jupyter notebook."
   ]
  },
  {
   "cell_type": "markdown",
   "id": "7fefc2d7",
   "metadata": {},
   "source": [
    "<b>Simple Gradient Descent For Backpropagation</b> <br>\n",
    "All the weight parameters of the model for both the layers - Layer 1 & Layer 2<br>\n",
    "\n",
    "<b>Layer 2 Parameters:<b>\n",
    "\n",
    "$$ \\frac{{\\partial L}}{{\\partial w _{11}^{(2)}}} = \\left( {\\frac{{\\partial L}}{{\\partial {\\rm{ŷ}} _1^{}}}} \\right)\\left( {\\frac{{\\partial {\\rm{ŷ}} _1^{}}}{{\\partial h _1^{(2)}}}} \\right)\\left( {\\frac{{\\partial h _1^{(2)}}}{{\\partial  a_{1}^{(2)}}}} \\right) \\left({\\frac{{\\partial  a_{1}^{(2)}}}{{\\partial w _{11}^{(2)}}}}\\right)$$\n",
    "\n",
    "$$  =  {{{(ŷ _1 - y _1)(h _1^{(2)}) (1 - h _1^{(2)})(h _1^{(1)}) }}} $$\n",
    "$$  =  {{{(ŷ _1 - y _1)(ŷ _1) (1 - ŷ _1)(h _1^{(1)}) }}} $$\n",
    "\n",
    "\n",
    "$$ \\frac{{\\partial L}}{{\\partial w _{21}^{(2)}}} = \\left( {\\frac{{\\partial L}}{{\\partial {\\rm{ŷ}} _1^{}}}} \\right)\\left( {\\frac{{\\partial {\\rm{ŷ}} _1^{}}}{{\\partial h _1^{(2)}}}} \\right)\\left( {\\frac{{\\partial h _1^{(2)}}}{{\\partial  a_{1}^{(2)}}}} \\right) \\left({\\frac{{\\partial  a_{1}^{(2)}}}{{\\partial w _{21}^{(2)}}}}\\right)$$\n",
    "\n",
    "$$  =  {{{(ŷ _1 - y _1)(h _1^{(2)}) (1 - h _1^{(2)})(h _1^{(1)}) }}} $$\n",
    "$$  =  {{{(ŷ _1 - y _1)(ŷ _1) (1 - ŷ _1)(h _1^{(1)}) }}} $$\n",
    "\n",
    "<b>Optimisation Of Layer 2 Parameters :<b> <br>\n",
    "$$\\eta = 0.01$$\n",
    "\n",
    "$$w _{11}^{(2)} \\leftarrow w _{11}^{(2)} - \\eta \\frac{{\\partial L}}{{\\partial w _{11}^{(2)}}}$$ <br>\n",
    "$$w _{21}^{(2)} \\leftarrow w _{21}^{(2)} - \\eta \\frac{{\\partial L}}{{\\partial w _{21}^{(2)}}}$$\n",
    "\n",
    "\n",
    "<b>Layer 1 Parameters:<b>\n",
    "\n",
    "$$ \\frac{{\\partial L}}{{\\partial w _{11}^{(1)}}} = \\left( {\\frac{{\\partial L}}{{\\partial {\\rm{h}} _1^{(1)}}}} \\right)\\left( {\\frac{{\\partial {\\rm{h}} _1^{(1)}}}{{\\partial a _1^{(1)}}}} \\right)\\left( {\\frac{{\\partial a _1^{(1)}}}{{\\partial  w_{11}^{(1)}}}} \\right)$$\n",
    "\n",
    "$$={{{((ŷ _1 - y _1)ŷ _1(1 - ŷ _1)w _{11}^{(2)}) h _1^{(1)} (1 - h _1^{(1)})x _1 }}} $$ <br>\n",
    "\n",
    "$$ \\frac{{\\partial L}}{{\\partial w _{12}^{(1)}}} = \\left( {\\frac{{\\partial L}}{{\\partial {\\rm{h}} _2^{(1)}}}} \\right)\\left( {\\frac{{\\partial {\\rm{h}} _2^{(1)}}}{{\\partial a _2^{(1)}}}} \\right)\\left( {\\frac{{\\partial a _2^{(1)}}}{{\\partial  w_{12}^{(1)}}}} \\right)$$\n",
    "\n",
    "$$={{{((ŷ _1 - y _1)ŷ _1(1 - ŷ _1)w _{21}^{(2)}) h _2^{(1)} (1 - h _2^{(1)})x _1 }}} $$ <br>\n",
    "\n",
    "$$ \\frac{{\\partial L}}{{\\partial w _{21}^{(1)}}} = \\left( {\\frac{{\\partial L}}{{\\partial {\\rm{h}} _1^{(1)}}}} \\right)\\left( {\\frac{{\\partial {\\rm{h}} _1^{(1)}}}{{\\partial a _1^{(1)}}}} \\right)\\left( {\\frac{{\\partial a _1^{(1)}}}{{\\partial  w_{21}^{(1)}}}} \\right)$$\n",
    "\n",
    "$$={{{((ŷ _1 - y _1)ŷ _1(1 - ŷ _1)w _{11}^{(2)}) h _1^{(1)} (1 - h _1^{(1)})x _2 }}} $$ <br>\n",
    "\n",
    "$$ \\frac{{\\partial L}}{{\\partial w _{22}^{(1)}}} = \\left( {\\frac{{\\partial L}}{{\\partial {\\rm{h}} _2^{(1)}}}} \\right)\\left( {\\frac{{\\partial {\\rm{h}} _2^{(1)}}}{{\\partial a _2^{(1)}}}} \\right)\\left( {\\frac{{\\partial a _2^{(1)}}}{{\\partial  w_{22}^{(1)}}}} \\right)$$\n",
    "\n",
    "$$={{{((ŷ _1 - y _1)ŷ _1(1 - ŷ _1)w _{21}^{(2)}) h _2^{(1)} (1 - h _2^{(1)})x _2 }}} $$ <br>\n",
    "\n",
    "<b>Optimisation Of Layer 1 Parameters :<b> <br>\n",
    "$$\\eta = 0.01$$\n",
    "\n",
    "$$w _{11}^{(1)} \\leftarrow w _{11}^{(1)} - \\eta \\frac{{\\partial L}}{{\\partial w _{11}^{(1)}}}$$ <br>\n",
    "$$w _{11}^{(2)} \\leftarrow w _{11}^{(2)} - \\eta \\frac{{\\partial L}}{{\\partial w _{11}^{(2)}}}$$ <br>\n",
    "$$w _{21}^{(1)} \\leftarrow w _{21}^{(1)} - \\eta \\frac{{\\partial L}}{{\\partial w _{21}^{(1)}}}$$ <br>\n",
    "$$w _{22}^{(1)} \\leftarrow w _{22}^{(1)} - \\eta \\frac{{\\partial L}}{{\\partial w _{22}^{(1)}}}$$ <br>\n",
    "\n",
    "\n",
    "<b>Bias Parameters Of The Model:<b>\n",
    "\n",
    "$$ \\frac{{\\partial L}}{{\\partial b _{}^{(2)}}} = \\left( {\\frac{{\\partial L}}{{\\partial {\\rm{ŷ}} _1^{}}}} \\right)\\left( {\\frac{{\\partial {\\rm{ŷ}} _1^{}}}{{\\partial h _1^{(2)}}}} \\right)\\left( {\\frac{{\\partial h _1^{(2)}}}{{\\partial  a_{1}^{(2)}}}} \\right) \\left({\\frac{{\\partial  a_{1}^{(2)}}}{{\\partial b _{}^{(2)}}}}\\right)$$\n",
    "\n",
    "$$ \\frac{{\\partial L}}{{\\partial b _{1}^{(1)}}} = \\left( {\\frac{{\\partial L}}{{\\partial {\\rm{h}} _1^{(1)}}}} \\right)\\left( {\\frac{{\\partial {\\rm{h}} _1^{(1)}}}{{\\partial a _1^{(1)}}}} \\right)\\left( {\\frac{{\\partial a _1^{(1)}}}{{\\partial  b_{1}^{(1)}}}} \\right)$$\n",
    "\n",
    "$$ \\frac{{\\partial L}}{{\\partial b _{2}^{(1)}}} = \\left( {\\frac{{\\partial L}}{{\\partial {\\rm{h}} _2^{(1)}}}} \\right)\\left( {\\frac{{\\partial {\\rm{h}} _2^{(1)}}}{{\\partial a _2^{(1)}}}} \\right)\\left( {\\frac{{\\partial a _2^{(1)}}}{{\\partial  b_{2}^{(1)}}}} \\right)$$\n",
    "\n",
    "<b>Optimisation Of Bias Parameters equals to 1:<b> <br>\n",
    "$$\\eta = 0.01$$\n",
    "\n",
    "$$b _{}^{(2)} \\leftarrow b _{}^{(2)} - \\eta \\frac{{\\partial L}}{{\\partial b _{}^{(2)}}}$$ <br>\n",
    "$$b _{1}^{(1)} \\leftarrow b _{1}^{(1)} - \\eta \\frac{{\\partial L}}{{\\partial b _{1}^{(2)}}}$$ <br>\n",
    "$$b _{2}^{(1)} \\leftarrow b _{2}^{(1)} - \\eta \\frac{{\\partial L}}{{\\partial b _{2}^{(1)}}}$$ <br>\n",
    "\n"
   ]
  },
  {
   "cell_type": "markdown",
   "id": "e6929460",
   "metadata": {},
   "source": [
    "<b> Solution to XOR Problem - A Linear Model</b>\n",
    "\n",
    "$$\\frac{{\\partial L}}{{\\partial \\overrightarrow W _{}^{(1)}}}=\\begin{bmatrix} \\frac{{\\partial L}}{{\\partial w _{11}^{(1)}}} &  \\frac{{\\partial L}}{{\\partial w _{12}^{(1)}}} \\\\ \\frac{{\\partial L}}{{\\partial w _{21}^{(1)}}} &  \\frac{{\\partial L}}{{\\partial w _{22}^{(1)}}} \\end{bmatrix} $$\n",
    "$$=\\begin{bmatrix} 1 & 1 \\\\ 1 & 1 \\end{bmatrix}$$\n",
    "\n",
    "$$ f(\\overrightarrow x;\\overrightarrow W,\\overrightarrow b _{}^{(1)},\\overrightarrow w,\\overrightarrow b _{}^{(2)})=\\overrightarrow w _{}^{(T)}\\overrightarrow h + \\overrightarrow b _{}^{(2)}$$\n",
    "\n",
    "$$=\\overrightarrow w _{}^{(T)}g(\\overrightarrow W _{}^{(T)}\\overrightarrow x \\overrightarrow b _{}^{(2)}+ \\overrightarrow b _{}^{(1)}) + \\overrightarrow b _{}^{(2)}$$\n",
    "\n",
    "$$=\\overrightarrow W _{}^{(T)}max(0, \\overrightarrow W _{}^{(T)}\\overrightarrow x + \\overrightarrow b _{}^{(1)}) + \\overrightarrow b _{}^{(2)}$$\n",
    "\n",
    "$$\\overrightarrow W _{}^{(T)}=\\begin{bmatrix} 1 & 1 \\\\ 1 & 1 \\end{bmatrix} $$ <br>\n",
    "$$\\overrightarrow b _{}^{(1)}=\\begin{bmatrix} 0 \\\\ -1 \\end{bmatrix} $$ <br>\n",
    "$$\\overrightarrow w _{}^{}=\\begin{bmatrix} 1 \\\\ -2 \\end{bmatrix} $$ <br>\n",
    "$$b = 0$$<br>\n",
    "\n",
    "$$\\overrightarrow X _{}^{(T)}=\\begin{bmatrix} 0 & 0 \\\\ 0 & 1 \\\\ 1 & 0 \\\\ 1 & 1 \\end{bmatrix} $$ <br>\n",
    "$$\\overrightarrow X _{}^{(T)}\\overrightarrow W _{}^{(T)}=\\begin{bmatrix} 0 & 0 \\\\ 0 & 1 \\\\ 1 & 0 \\\\ 1 & 1 \\end{bmatrix}\\begin{bmatrix} 1 & 1 \\\\ 1 & 1 \\end{bmatrix} $$ <br>\n",
    "$$=\\begin{bmatrix} 0 & 0 \\\\ 1 & 1 \\\\ 1 & 1 \\\\ 2 & 2 \\end{bmatrix}$$\n",
    "\n"
   ]
  },
  {
   "cell_type": "markdown",
   "id": "674c8894",
   "metadata": {},
   "source": [
    "<b>Broadcasting</b><br>\n",
    "The term broadcasting refers to how numpy treats arrays with different Dimension during arithmetic operations which lead to certain constraints, the smaller array is broadcast across the larger array so that they have compatible shapes. \n",
    "\n",
    "$$\\overrightarrow W _{}^{(T)}\\overrightarrow x _{}^{} + \\overrightarrow b _{}^{(1)} = \\overrightarrow W _{}^{(}\\overrightarrow x _{}^{} + \\overrightarrow b _{}^{(1)}$$ <br>\n",
    "\n",
    "$$=\\begin{bmatrix} 0 & 0 \\\\ 1 & 1 \\\\ 1 & 1 \\\\ 2 & 2 \\end{bmatrix} + \\begin{bmatrix} 0 & -1 \\\\ 0 & -1 \\\\ 0 & -1 \\\\ 0 & -1 \\end{bmatrix}$$\n",
    "\n",
    "$$=\\begin{bmatrix} 0 & -1 \\\\ 1 & 0 \\\\ 1 & 0 \\\\ 2 & 1 \\end{bmatrix}$$\n",
    "\n",
    "$$max(0, \\overrightarrow W _{}^{}\\overrightarrow x + \\overrightarrow X _{}^{}) + \\overrightarrow b _{}^{(1)}$$ <br>\n",
    "$$=\\begin{bmatrix} 0 & 0 \\\\ 1 & 0 \\\\ 1 & 0 \\\\ 2 & 1 \\end{bmatrix}$$ <br>\n",
    "\n",
    "$$max(0, \\overrightarrow W _{}^{}\\overrightarrow X + \\overrightarrow b _{}^{(1)})\\overrightarrow w + \\overrightarrow b _{}^{(2)}$$ <br>\n",
    "\n",
    "$$=\\begin{bmatrix} 0 & 0 \\\\ 1 & 0 \\\\ 1 & 0 \\\\ 2 & 1 \\end{bmatrix}\\begin{bmatrix} 1 \\\\ -2 \\end{bmatrix} + 0 $$ <br>\n",
    "$$=\\begin{bmatrix} 0 \\\\ 1 \\\\ 1 \\\\ 0 \\end{bmatrix}$$"
   ]
  },
  {
   "cell_type": "code",
   "execution_count": null,
   "id": "0562c9eb",
   "metadata": {},
   "outputs": [],
   "source": []
  }
 ],
 "metadata": {
  "kernelspec": {
   "display_name": "Python 3 (ipykernel)",
   "language": "python",
   "name": "python3"
  },
  "language_info": {
   "codemirror_mode": {
    "name": "ipython",
    "version": 3
   },
   "file_extension": ".py",
   "mimetype": "text/x-python",
   "name": "python",
   "nbconvert_exporter": "python",
   "pygments_lexer": "ipython3",
   "version": "3.9.7"
  }
 },
 "nbformat": 4,
 "nbformat_minor": 5
}
